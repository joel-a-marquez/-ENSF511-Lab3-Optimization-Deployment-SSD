{
 "cells": [
  {
   "cell_type": "markdown",
   "id": "75684d68",
   "metadata": {},
   "source": [
    "# Discussion (Lab 3 Part 3)"
   ]
  },
  {
   "cell_type": "markdown",
   "id": "96a8ae46",
   "metadata": {},
   "source": [
    "### Joel Aaron Marquez, ENSF 511, W2022"
   ]
  },
  {
   "cell_type": "markdown",
   "id": "341fea7e",
   "metadata": {},
   "source": [
    "##### The Challenge..."
   ]
  },
  {
   "cell_type": "markdown",
   "id": "e4dd5b5f",
   "metadata": {},
   "source": [
    "Following the Youtube [tutorial](https://www.youtube.com/watch?v=IOI0o3Cxv9Q&list=LL&index=2) and a github [repository](https://github.com/nicknochnack/RealTimeObjectDetection), it was stuck in a certain portion of the code when I was about to train the model (image below). \n",
    "\n",
    "                                    Figure 1. The Stuck Line when training the model\n",
    "![stuck...](../images-for-discussion/loading_forever.jpg)\n",
    "\n",
    "I didn't have time to troubleshoot it at this point but it seems I am not the only one that have this issue. I saw a couple of forums that shared a similar issue and neither had ultimately resolved their problems ( [https://datascience.stackexchange.com/questions/107595/too-many-hours-for-training-custom-object-detector](https://datascience.stackexchange.com/questions/107595/too-many-hours-for-training-custom-object-detector) and [https://github.com/aws/sagemaker-tensorflow-extensions/issues/46](https://github.com/aws/sagemaker-tensorflow-extensions/issues/46)). Perhaps it would've been better if I had done it from scratch and manually trained it but time could not wait.\n",
    "\n",
    "Aside from this, I learned a lot in this portion of the lab, with how we need to create another file for boundings of the object and how there are certain steps to enable object detection training in tensorflow. I followed the process to install the tensorflow object detection api before starting any model training (link [here](https://tensorflow-object-detection-api-tutorial.readthedocs.io/en/latest/training.html)). There's also the need transfer the model before any training to load the checkpoint and the pipeline.config file to set up the parameters before training. Lastly, a TFRecord seems required in the github repository to improve performance of the training but it is not well documented at the surface level."
   ]
  }
 ],
 "metadata": {
  "kernelspec": {
   "display_name": "Python (ENSF511-Lab2)",
   "language": "python",
   "name": "ensf511-lab2"
  },
  "language_info": {
   "codemirror_mode": {
    "name": "ipython",
    "version": 3
   },
   "file_extension": ".py",
   "mimetype": "text/x-python",
   "name": "python",
   "nbconvert_exporter": "python",
   "pygments_lexer": "ipython3",
   "version": "3.9.12"
  }
 },
 "nbformat": 4,
 "nbformat_minor": 5
}
